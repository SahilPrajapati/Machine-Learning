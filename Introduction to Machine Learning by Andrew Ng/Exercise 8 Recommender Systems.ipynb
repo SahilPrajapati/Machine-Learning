{
 "cells": [
  {
   "cell_type": "markdown",
   "metadata": {},
   "source": [
    "In this part of the exercise, you will implement the collaborative ﬁltering learning algorithm and apply it to a dataset of movie ratings.2 This dataset consists of ratings on a scale of 1 to 5. The dataset has nu = 943 users, and nm = 1682 movies. For this part of the exercise, you will be working with the script ex8 cofi.m. In the next parts of this exercise, you will implement the function cofiCostFunc.m that computes the collaborative ﬁtlering objective function and gradient. After implementing the cost function and gradient, you will use fmincg.m to learn the parameters for collaborative ﬁltering.\n"
   ]
  },
  {
   "cell_type": "markdown",
   "metadata": {},
   "source": [
    "# 1 Movie ratings dataset"
   ]
  },
  {
   "cell_type": "code",
   "execution_count": 1,
   "metadata": {},
   "outputs": [
    {
     "data": {
      "text/plain": [
       "{'__header__': b'MATLAB 5.0 MAT-file, Platform: GLNXA64, Created on: Thu Dec  1 17:19:26 2011',\n",
       " '__version__': '1.0',\n",
       " '__globals__': [],\n",
       " 'Y': array([[5, 4, 0, ..., 5, 0, 0],\n",
       "        [3, 0, 0, ..., 0, 0, 5],\n",
       "        [4, 0, 0, ..., 0, 0, 0],\n",
       "        ...,\n",
       "        [0, 0, 0, ..., 0, 0, 0],\n",
       "        [0, 0, 0, ..., 0, 0, 0],\n",
       "        [0, 0, 0, ..., 0, 0, 0]], dtype=uint8),\n",
       " 'R': array([[1, 1, 0, ..., 1, 0, 0],\n",
       "        [1, 0, 0, ..., 0, 0, 1],\n",
       "        [1, 0, 0, ..., 0, 0, 0],\n",
       "        ...,\n",
       "        [0, 0, 0, ..., 0, 0, 0],\n",
       "        [0, 0, 0, ..., 0, 0, 0],\n",
       "        [0, 0, 0, ..., 0, 0, 0]], dtype=uint8)}"
      ]
     },
     "execution_count": 1,
     "metadata": {},
     "output_type": "execute_result"
    }
   ],
   "source": [
    "#Importing...\n",
    "\n",
    "import scipy.io as sio\n",
    "import numpy as np\n",
    "import pandas as pd\n",
    "import matplotlib.pyplot as plt\n",
    "import math\n",
    "from scipy.optimize import minimize\n",
    "from mpl_toolkits.mplot3d import Axes3D\n",
    "\n",
    "\n",
    "\n",
    "\n",
    "#Reading the .mat file\n",
    "\n",
    "mat_contents = sio.loadmat('E:\\Machine Learning\\Exercises\\machine-learning-ex8\\ex8\\ex8_movies.mat')\n",
    "\n",
    "mat_contents"
   ]
  },
  {
   "cell_type": "code",
   "execution_count": 2,
   "metadata": {},
   "outputs": [],
   "source": [
    "# The matrix Y (a num_movies×num_users matrix) stores the ratings y(i,j) (from 1 to 5). The matrix R is an binary-valued \n",
    "# indicator matrix, where R(i,j) = 1 if user j gave a rating to movie i, and R(i,j) = 0 otherwise. The objective of \n",
    "# collaborative ﬁltering is to predict movie ratings for the movies that users have not yet rated, that is, the entries \n",
    "# with R(i,j) = 0. This will allow us to recommend the movies with the highest predicted ratings to the user. "
   ]
  },
  {
   "cell_type": "code",
   "execution_count": 3,
   "metadata": {},
   "outputs": [],
   "source": [
    "#%  Y is a 1682x943 matrix, containing ratings (1-5) of 1682 movies on 943 users\n",
    "Y = mat_contents['Y']\n",
    "\n",
    "#%  R is a 1682x943 matrix, where R(i,j) = 1 if and only if user j gave a rating to movie i\n",
    "R = mat_contents['R']"
   ]
  },
  {
   "cell_type": "code",
   "execution_count": 4,
   "metadata": {},
   "outputs": [
    {
     "name": "stdout",
     "output_type": "stream",
     "text": [
      "Average movie rating of movie 1 (Toy Story):  3.8783185840707963\n"
     ]
    }
   ],
   "source": [
    "print('Average movie rating of movie 1 (Toy Story): ',np.mean(Y[0][np.where(R[0] == 1)]))"
   ]
  },
  {
   "cell_type": "code",
   "execution_count": 5,
   "metadata": {},
   "outputs": [],
   "source": [
    "# Throughout this part of the exercise, you will also be working with the matrices, X and Theta. The i-th row of X \n",
    "# corresponds to the feature vector x(i) for the i-th movie, and the j-th row of Theta corresponds to one parameter \n",
    "# vector θ(j), for the j-th user. Both x(i) and θ(j) are n-dimensional vectors. For the purposes of this exercise, \n",
    "# you will use n = 100, and therefore, x(i) ∈R100 and θ(j) ∈R100. Correspondingly, X is a nm ×100 matrix and Theta \n",
    "# is a nu ×100 matrix. "
   ]
  },
  {
   "cell_type": "code",
   "execution_count": null,
   "metadata": {},
   "outputs": [],
   "source": []
  },
  {
   "cell_type": "code",
   "execution_count": 6,
   "metadata": {},
   "outputs": [
    {
     "data": {
      "image/png": "[encoded data removed]",
      "text/plain": [
       "<Figure size 432x288 with 1 Axes>"
      ]
     },
     "metadata": {},
     "output_type": "display_data"
    }
   ],
   "source": [
    "#  We can \"visualize\" the ratings matrix by plotting it with imagesc\n",
    "plt.imshow(Y,aspect='auto')\n",
    "plt.ylabel('Movies');\n",
    "plt.xlabel('Users');\n"
   ]
  },
  {
   "cell_type": "code",
   "execution_count": 7,
   "metadata": {},
   "outputs": [
    {
     "data": {
      "text/plain": [
       "array([[5, 4, 0, 0, 4],\n",
       "       [3, 0, 0, 0, 3],\n",
       "       [4, 0, 0, 0, 0],\n",
       "       [3, 0, 0, 0, 0],\n",
       "       [3, 0, 0, 0, 0]], dtype=uint8)"
      ]
     },
     "execution_count": 7,
     "metadata": {},
     "output_type": "execute_result"
    },
    {
     "data": {
      "image/png": "[encoded data removed]",
      "text/plain": [
       "<Figure size 432x288 with 1 Axes>"
      ]
     },
     "metadata": {},
     "output_type": "display_data"
    }
   ],
   "source": [
    "#  Understanding the meaning of the above imshow in small data\n",
    "plt.imshow(Y[0:5,0:5],aspect='auto')\n",
    "plt.ylabel('Movies');\n",
    "plt.xlabel('Users');\n",
    "Y[0:5,0:5]\n"
   ]
  },
  {
   "cell_type": "markdown",
   "metadata": {},
   "source": [
    "# 2 Collaborative filtering"
   ]
  },
  {
   "cell_type": "markdown",
   "metadata": {},
   "source": [
    "Now, you will start implementing the collaborative ﬁltering learning algorithm. You will start by implementing the cost function (without regularization). "
   ]
  },
  {
   "cell_type": "code",
   "execution_count": 8,
   "metadata": {},
   "outputs": [],
   "source": [
    "#The collaborative ﬁltering algorithm in the setting of movie recommendations considers a set of n-dimensional parameter \n",
    "#vectors x(1),...,x(nm) and θ(1),...,θ(nu), where the model predicts the rating for movie i by user j as y(i,j) = (θ(j))'x(i)\n",
    "#Given a dataset that consists of a set of ratings produced by some users on some movies, you wish to learn the parameter \n",
    "#vectors x(1),...,x(nm),θ(1),...,θ(nu) that produce the best ﬁt (minimizes the squared error). You will complete the code in\n",
    "#cofiCostFunc.m to compute the cost function and gradient for collaborative ﬁltering. Note that the parameters to the \n",
    "#function (i.e., the values that you are trying to learn) are X and Theta. In order to use an oﬀ-the-shelf minimizer such as\n",
    "#fmincg, the cost function has been set up to unroll the parameters into a single vector params. You had previously used the\n",
    "#same vector unrolling method in the neural networks programming exercise.\n"
   ]
  },
  {
   "cell_type": "markdown",
   "metadata": {},
   "source": [
    "## 2.1 Collaborative Cost Function"
   ]
  },
  {
   "cell_type": "code",
   "execution_count": 9,
   "metadata": {},
   "outputs": [],
   "source": [
    "# We will compute the cost function without regularization\n",
    "# Note that you should be accumulating the cost for user j and movie i only if R(i,j) = 1. "
   ]
  },
  {
   "cell_type": "code",
   "execution_count": 10,
   "metadata": {},
   "outputs": [],
   "source": [
    "#%% ============ Part 2: Collaborative Filtering Cost Function ===========\n",
    "#%  You will now implement the cost function for collaborative filtering.\n",
    "#%  To help you debug your cost function, we have included set of weights\n",
    "#%  that we trained on that. Specifically, you should complete the code in \n",
    "#%  cofiCostFunc.m to return J.\n",
    "\n",
    "#%  Load pre-trained weights (X, Theta, num_users, num_movies, num_features)\n",
    "PreTrainedWeights = sio.loadmat('E:\\Machine Learning\\Exercises\\machine-learning-ex8\\ex8\\ex8_movieParams.mat')\n",
    "\n",
    "X = PreTrainedWeights['X']\n",
    "Theta = PreTrainedWeights['Theta']\n",
    "num_users = PreTrainedWeights['num_users']\n",
    "num_movies = PreTrainedWeights['num_movies']\n",
    "num_features = PreTrainedWeights['num_features']"
   ]
  },
  {
   "cell_type": "code",
   "execution_count": 11,
   "metadata": {},
   "outputs": [],
   "source": [
    "#%  Reduce the data set size so that this runs faster\n",
    "\n",
    "num_usersReduced = 4\n",
    "num_moviesReduced = 5 \n",
    "num_featuresReduced = 3\n",
    "\n",
    "XReduced     = X[0:num_moviesReduced, 0:num_featuresReduced]\n",
    "ThetaReduced = Theta[0:num_usersReduced, 0:num_featuresReduced]\n",
    "YReduced     = Y[0:num_moviesReduced, 0:num_usersReduced]\n",
    "RReduced     = R[0:num_moviesReduced, 0:num_usersReduced]"
   ]
  },
  {
   "cell_type": "code",
   "execution_count": 12,
   "metadata": {},
   "outputs": [],
   "source": [
    "# returns the cost and gradient for the collaborative filtering problem.\n",
    "def cofiCostFunc(params, Y, R, num_users, num_movies,num_features, Lambda):\n",
    "    #Unfold the X and Theta Matrix from params\n",
    "    X = params[0:num_movies*num_features].reshape(num_movies, num_features)\n",
    "    \n",
    "    Theta = params[np.size(X):len(params)].reshape(num_users, num_features)\n",
    "    \n",
    "    #print(X.shape,Theta.shape)\n",
    "    \n",
    "    #Computing the cost function\n",
    "    idx = np.where(R == 1) # Store the 2D indexes(i,j) where our R(i,j) == 1\n",
    "    \n",
    "    # Computing (theta^j)'(x^i) . It will be an element wise multiplication of theta[idx] and X and\n",
    "    # then performing sum column wise\n",
    "    thetax = (Theta[idx[1]])*(X[idx[0]])\n",
    "    \n",
    "    #implementing the formula\n",
    "    temp = np.sum(thetax,axis = 1) - Y[idx]\n",
    "\n",
    "    J = 0.5*(np.sum((temp)**2)) + (Lambda/2)*( np.sum(Theta**2) + np.sum(X**2))\n",
    "    \n",
    "    \n",
    "    \n",
    "    #2.2 Collaborative ﬁltering gradien\n",
    "    #Note that X grad should be a matrix of the same size as X and similarly, Theta grad is a matrix of the \n",
    "    #same size as Theta.\n",
    "    \n",
    "    \"\"\"isme kya hua hmne  X or Theta ka matrix multiplication kia then element wise multiplication with R since R contains\n",
    "       0 or 1 elements only or hum sirf 1 vali k sath interested hai to jb multiply ki 0 vali k sath corresponding values\n",
    "       zero hogyi baaki 1 vali values hme mil gyi sidha sidha matrix multiply kr do ab to\"\"\"\n",
    "    \n",
    "    diff = X.dot(Theta.T)*R - Y\n",
    "    \n",
    "    X_grad = diff.dot(Theta) + Lambda*X\n",
    "    \n",
    "    Theta_grad = (diff.T).dot(X) + Lambda*Theta\n",
    "\n",
    "    #Unrolling parameter in one vector\n",
    "    gradients = np.concatenate((X_grad.flatten(), Theta_grad.flatten()))\n",
    "        \n",
    "    return J,gradients"
   ]
  },
  {
   "cell_type": "code",
   "execution_count": 13,
   "metadata": {
    "scrolled": true
   },
   "outputs": [
    {
     "name": "stdout",
     "output_type": "stream",
     "text": [
      "Cost at loaded parameters  22.22460372568567\n",
      "The Unrolled gradient at loaded parameters is :  [ -2.52899165   7.57570308  -1.89979026  -0.56819597   3.35265031\n",
      "  -0.52339845  -0.83240713   4.91163297  -0.76677878  -0.38358278\n",
      "   2.26333698  -0.35334048  -0.80378006   4.74271842  -0.74040871\n",
      " -10.5680202    4.62776019  -7.16004443  -3.05099006   1.16441367\n",
      "  -3.47410789   0.           0.           0.           0.\n",
      "   0.           0.        ]\n"
     ]
    }
   ],
   "source": [
    "#%  Evaluate cost function\n",
    "J, gradients = cofiCostFunc(np.concatenate((XReduced.flatten(), ThetaReduced.flatten())), YReduced, RReduced, \\\n",
    "                            num_usersReduced,num_moviesReduced, num_featuresReduced, 0)\n",
    "\n",
    "print('Cost at loaded parameters ',J)\n",
    "print('The Unrolled gradient at loaded parameters is : ', gradients)"
   ]
  },
  {
   "cell_type": "markdown",
   "metadata": {},
   "source": [
    "### Gradient Checking"
   ]
  },
  {
   "cell_type": "code",
   "execution_count": 14,
   "metadata": {},
   "outputs": [],
   "source": [
    "\"\"\"computes the numerical\n",
    "%   gradient of the function J around theta. Calling y = J(theta) should\n",
    "%   return the function value at theta.\n",
    "\n",
    "% Notes: The following code implements numerical gradient checking, and \n",
    "%        returns the numerical gradient.It sets numgrad(i) to (a numerical \n",
    "%        approximation of) the partial derivative of J with respect to the \n",
    "%        i-th input argument, evaluated at theta. (i.e., numgrad(i) should \n",
    "%        be the (approximately) the partial derivative of J with respect \n",
    "%        to theta(i).)\n",
    "%\"\"\"\n",
    "def computeNumericalGradient(J, theta):\n",
    "    numgrad = np.zeros((len(theta),1)).flatten() # It will store the final numerical gradient\n",
    "    perturb = np.zeros((len(theta),1)).flatten()\n",
    "    \n",
    "    e = 10**(-4) #epsilon\n",
    "    \n",
    "    #computing numerical gradient\n",
    "    for p in range(len(theta)):\n",
    "        \n",
    "        perturb[p] = e\n",
    "        \n",
    "        loss1 = J(theta - perturb)[0]\n",
    "        \n",
    "        loss2 = J(theta + perturb)[0]\n",
    "        numgrad[p] = (loss2 - loss1)/(2*e)\n",
    "        \n",
    "        perturb[p] = 0\n",
    "    return numgrad"
   ]
  },
  {
   "cell_type": "code",
   "execution_count": 15,
   "metadata": {},
   "outputs": [
    {
     "name": "stdout",
     "output_type": "stream",
     "text": [
      "Numerical Gradient is : \n",
      " [-1.14277557e+00  8.76497910e-01  1.36238198e+00  2.51516445e-01\n",
      " -1.61537219e-01 -5.87869276e-01 -2.81382598e+00 -5.71674466e+00\n",
      "  4.13670359e+00 -2.56159114e+00 -1.20431646e+00  4.14709686e+00\n",
      " -4.27722614e+00 -3.79862306e+00  8.66638815e+00  1.34763511e-03\n",
      "  2.37908090e-03 -5.81340696e-03  1.03612182e+00  3.58175099e+00\n",
      " -6.24819888e+00 -2.89854492e+00 -7.20948257e-01  6.90459125e+00\n",
      " -6.00884571e-01 -1.06078641e+00  2.59208634e+00]\n",
      "\n",
      "\n",
      "\n",
      " Gradient Obtained using cost function :\n",
      " [-1.14277557e+00  8.76497910e-01  1.36238198e+00  2.51516445e-01\n",
      " -1.61537219e-01 -5.87869276e-01 -2.81382598e+00 -5.71674466e+00\n",
      "  4.13670359e+00 -2.56159114e+00 -1.20431646e+00  4.14709686e+00\n",
      " -4.27722614e+00 -3.79862306e+00  8.66638815e+00  1.34763510e-03\n",
      "  2.37908089e-03 -5.81340696e-03  1.03612182e+00  3.58175099e+00\n",
      " -6.24819888e+00 -2.89854492e+00 -7.20948257e-01  6.90459125e+00\n",
      " -6.00884571e-01 -1.06078641e+00  2.59208634e+00]\n",
      "\n",
      "\n",
      " Relative Difference(should be less than 10^(-9)) :  7.947728900372695e-13\n"
     ]
    }
   ],
   "source": [
    "#    Creates a collaborative filering problem \n",
    "#%   to check your cost function and gradients, it will output the \n",
    "#%   analytical gradients produced by your code and the numerical gradients \n",
    "#%   (computed using computeNumericalGradient). These two gradient \n",
    "#%   computations should result in very similar values.\n",
    "def checkCostFunction(Lambda):\n",
    "    \n",
    "    # Creating a small problem\n",
    "    X_t = np.random.rand(4,3) \n",
    "    Theta_t = np.random.rand(5,3)\n",
    "    \n",
    "    # Zap out most entries\n",
    "    Y_t = X_t.dot(Theta_t.T)\n",
    "    Y_t[np.random.rand(Y_t.shape[0],Y_t.shape[1]) > 0.5] = 0\n",
    "    \n",
    "    # creating R\n",
    "    R_t = np.ones(Y_t.shape)\n",
    "    R_t[Y_t == 0] = 0\n",
    "\n",
    "    # run gradient checking    \n",
    "    XCheck = np.random.randn(X_t.shape[0], X_t.shape[1])\n",
    "    ThetaCheck = np.random.randn(Theta_t.shape[0], Theta_t.shape[1])\n",
    "    num_usersCheck = Y_t.shape[1]\n",
    "    num_moviesCheck = Y_t.shape[0]\n",
    "    num_featuresCheck = Theta_t.shape[1]\n",
    "\n",
    "    #unrolling\n",
    "    params = np.concatenate((XCheck.flatten(), ThetaCheck.flatten()))\n",
    "    \n",
    "    #computing numerical gradient\n",
    "    num_grad = computeNumericalGradient(lambda t : cofiCostFunc(t, Y_t, R_t, num_usersCheck, num_moviesCheck,\\\n",
    "                                                                num_featuresCheck, 0), params)\n",
    "\n",
    "    \n",
    "    # computing gradient using cost function\n",
    "    cost,grad = cofiCostFunc(params,Y_t, R_t, num_usersCheck, num_moviesCheck,num_featuresCheck, 0 )\n",
    "\n",
    "    print('Numerical Gradient is : \\n',num_grad)\n",
    "    print('\\n\\n\\n Gradient Obtained using cost function :\\n',grad)\n",
    "    \n",
    "    diff = np.linalg.norm(num_grad - grad)/np.linalg.norm(num_grad + grad)\n",
    "    \n",
    "    print('\\n\\n Relative Difference(should be less than 10^(-9)) : ',diff)\n",
    "    \n",
    "checkCostFunction(0)"
   ]
  },
  {
   "cell_type": "markdown",
   "metadata": {},
   "source": [
    "## 2.3 and 2.4 Regularized Cost Function and gradient"
   ]
  },
  {
   "cell_type": "code",
   "execution_count": 16,
   "metadata": {},
   "outputs": [
    {
     "name": "stdout",
     "output_type": "stream",
     "text": [
      "Regularized Cost at loaded parameters  31.344056244274213\n",
      "The Unrolled gradient at loaded parameters with Regularization is : \n",
      " [ -0.95596339   6.97535514  -0.10861109   0.60308088   2.77421145\n",
      "   0.25839822   0.12985616   4.0898522   -0.89247334   0.29684395\n",
      "   1.06300933   0.66738144   0.60252677   4.90185327  -0.19747928\n",
      " -10.13985478   2.10136256  -6.76563628  -2.29347024   0.48244098\n",
      "  -2.99791422  -0.64787484  -0.71820673   1.27006666   1.09289758\n",
      "  -0.40784086   0.49026541]\n"
     ]
    }
   ],
   "source": [
    "#%  Evaluate cost function\n",
    "J, gradients = cofiCostFunc(np.concatenate((XReduced.flatten(), ThetaReduced.flatten())), YReduced, RReduced, \\\n",
    "                            num_usersReduced,num_moviesReduced, num_featuresReduced, 1.5)\n",
    "\n",
    "print('Regularized Cost at loaded parameters ',J)\n",
    "print('The Unrolled gradient at loaded parameters with Regularization is : \\n', gradients)"
   ]
  },
  {
   "cell_type": "code",
   "execution_count": 17,
   "metadata": {},
   "outputs": [
    {
     "name": "stdout",
     "output_type": "stream",
     "text": [
      "Numerical Gradient is : \n",
      " [ 0.17978734  0.52535123 -0.02588117  5.93250912 -0.07132932 -0.27251505\n",
      " -4.945237    1.49100064  0.4428856   3.53321488 -0.61313145 -0.06604541\n",
      " -8.02477184 13.05577597  6.69810691 -0.05719285  0.32621721  0.20850492\n",
      "  0.21616708 -0.02330524 -0.12801394 -0.65299286 -0.79223538  1.1572633\n",
      "  2.02400019 -6.33586267 -0.55420787]\n",
      "\n",
      "\n",
      "\n",
      " Gradient Obtained using cost function :\n",
      " [ 0.17978734  0.52535123 -0.02588117  5.93250912 -0.07132932 -0.27251505\n",
      " -4.945237    1.49100064  0.4428856   3.53321488 -0.61313145 -0.06604541\n",
      " -8.02477184 13.05577597  6.69810691 -0.05719285  0.32621721  0.20850492\n",
      "  0.21616708 -0.02330524 -0.12801394 -0.65299286 -0.79223538  1.1572633\n",
      "  2.02400019 -6.33586267 -0.55420787]\n",
      "\n",
      "\n",
      " Relative Difference(should be less than 10^(-9)) :  8.724254605412548e-13\n"
     ]
    }
   ],
   "source": [
    "# Gradient Checking with regularization\n",
    "checkCostFunction(1.5)"
   ]
  },
  {
   "cell_type": "markdown",
   "metadata": {},
   "source": [
    "# Learn Movie Recommendations"
   ]
  },
  {
   "cell_type": "markdown",
   "metadata": {},
   "source": [
    "After you have ﬁnished implementing the collaborative ﬁltering cost function and gradient, you can now start training \n",
    "your algorithm to make movie\n",
    "recommendations for yourself. In the next part of the ex8 cofi.m script, you can enter your own movie preferences, so that\n",
    "later when the algorithm runs, you can get your own movie recommendations! We have ﬁlled out some values according to our \n",
    "own preferences, but you should change this according to your own tastes. The list of all movies and their number in the\n",
    "dataset can be found listed in the ﬁle movie idx.txt."
   ]
  },
  {
   "cell_type": "code",
   "execution_count": 18,
   "metadata": {},
   "outputs": [],
   "source": [
    "# %% ============== Part 6: Entering ratings for a new user ===============\n",
    "# %  Before we will train the collaborative filtering model, we will first\n",
    "# %  add ratings that correspond to a new user that we just observed. This\n",
    "# %  part of the code will also allow you to put in your own ratings for the\n",
    "# %  movies in our dataset!"
   ]
  },
  {
   "cell_type": "code",
   "execution_count": 19,
   "metadata": {},
   "outputs": [],
   "source": [
    "#reads the fixed movie list in movie.txt and returns a cell array of the words in movieList.\n",
    "\n",
    "def loadMovieList():\n",
    "    # Read the fixed movieulary list\n",
    "    fid = open(r'E:\\Machine Learning\\Exercises\\machine-learning-ex8\\ex8\\movie_ids.txt')\n",
    "\n",
    "    n = 1682\n",
    "\n",
    "    movieList = list()\n",
    "\n",
    "    for i in range(n):\n",
    "\n",
    "        # Read line\n",
    "        line = fid.readline()\n",
    "\n",
    "        #word index can be ignore since it will be i+1\n",
    "\n",
    "        # we are splitting the movie name with first white space so we have an index of that\n",
    "        # at index 0 and movie name at index1\n",
    "\n",
    "        movieName = line.split(' ',1)[1]   # taking the movie name present at index 1   \n",
    "\n",
    "        movieList.append(movieName.strip()) # removing the '\\n' from the movie name and apending\n",
    "    fid.close()\n",
    "    \n",
    "    return movieList\n"
   ]
  },
  {
   "cell_type": "code",
   "execution_count": 20,
   "metadata": {},
   "outputs": [
    {
     "data": {
      "text/plain": [
       "1682"
      ]
     },
     "execution_count": 20,
     "metadata": {},
     "output_type": "execute_result"
    }
   ],
   "source": [
    "len(loadMovieList())"
   ]
  },
  {
   "cell_type": "code",
   "execution_count": 21,
   "metadata": {},
   "outputs": [
    {
     "name": "stdout",
     "output_type": "stream",
     "text": [
      "Rated  [4.]  for movie  Toy Story (1995)\n",
      "Rated  [3.]  for movie  Twelve Monkeys (1995)\n",
      "Rated  [5.]  for movie  Usual Suspects, The (1995)\n",
      "Rated  [4.]  for movie  Outbreak (1995)\n",
      "Rated  [5.]  for movie  Shawshank Redemption, The (1994)\n",
      "Rated  [3.]  for movie  While You Were Sleeping (1995)\n",
      "Rated  [5.]  for movie  Crow, The (1994)\n",
      "Rated  [2.]  for movie  Silence of the Lambs, The (1991)\n",
      "Rated  [4.]  for movie  Alien (1979)\n",
      "Rated  [5.]  for movie  Die Hard 2 (1990)\n",
      "Rated  [5.]  for movie  Sphere (1998)\n"
     ]
    }
   ],
   "source": [
    "movieList = loadMovieList()\n",
    "\n",
    "#%  Initialize my ratings\n",
    "my_ratings = np.zeros((1682, 1))\n",
    "\n",
    "#Giving the ratings\n",
    "\n",
    "#% Check the file movie_idx.txt for id of each movie in our dataset\n",
    "#% For example, Toy Story (1995) has ID 1, so to rate it \"4\", you can set\n",
    "my_ratings[0] = 4\n",
    "\n",
    "#% Or suppose did not enjoy Silence of the Lambs (1991), you can set\n",
    "my_ratings[97] = 2\n",
    "\n",
    "#% We have selected a few movies we liked / did not like and the ratings we\n",
    "#% gave are as follows:\n",
    "my_ratings[6] = 3\n",
    "my_ratings[11]= 5\n",
    "my_ratings[53] = 4\n",
    "my_ratings[63]= 5\n",
    "my_ratings[65]= 3\n",
    "my_ratings[67] = 5\n",
    "my_ratings[182] = 4\n",
    "my_ratings[225] = 5\n",
    "my_ratings[354] = 5\n",
    "\n",
    "for i in range(len(my_ratings)):\n",
    "    if my_ratings[i] > 0 :\n",
    "        print('Rated ',my_ratings[i],' for movie ',movieList[i])"
   ]
  },
  {
   "cell_type": "code",
   "execution_count": 22,
   "metadata": {},
   "outputs": [],
   "source": [
    "#%% ================== Part 7: Learning Movie Ratings ====================\n",
    "#%  Now, you will train the collaborative filtering model on a movie rating \n",
    "#%  dataset of 1682 movies and 943 users\n",
    "\n",
    "#Load Data\n",
    "movieData = sio.loadmat('E:\\Machine Learning\\Exercises\\machine-learning-ex8\\ex8\\ex8_movies.mat')"
   ]
  },
  {
   "cell_type": "code",
   "execution_count": 23,
   "metadata": {},
   "outputs": [],
   "source": [
    "#%  Y is a 1682x943 matrix, containing ratings (1-5) of 1682 movies by \n",
    "#%  943 users\n",
    "#%\n",
    "#%  R is a 1682x943 matrix, where R(i,j) = 1 if and only if user j gave a\n",
    "#%  rating to movie i"
   ]
  },
  {
   "cell_type": "code",
   "execution_count": 24,
   "metadata": {},
   "outputs": [],
   "source": [
    "#%  Y is a 1682x943 matrix, containing ratings (1-5) of 1682 movies on 943 users\n",
    "Y = movieData['Y']\n",
    "\n",
    "#%  R is a 1682x943 matrix, where R(i,j) = 1 if and only if user j gave a rating to movie i\n",
    "R = movieData['R']"
   ]
  },
  {
   "cell_type": "code",
   "execution_count": 25,
   "metadata": {},
   "outputs": [
    {
     "data": {
      "text/plain": [
       "(1682, 944)"
      ]
     },
     "execution_count": 25,
     "metadata": {},
     "output_type": "execute_result"
    }
   ],
   "source": [
    "#%  Add our own ratings to the data matrix\n",
    "Y = np.concatenate((Y,my_ratings),axis = 1)\n",
    "Y.shape"
   ]
  },
  {
   "cell_type": "code",
   "execution_count": 26,
   "metadata": {},
   "outputs": [
    {
     "data": {
      "text/plain": [
       "(1682, 944)"
      ]
     },
     "execution_count": 26,
     "metadata": {},
     "output_type": "execute_result"
    }
   ],
   "source": [
    "my_R = np.ones((len(my_ratings), 1))\n",
    "my_R[my_ratings == 0] = 0\n",
    "\n",
    "R = np.concatenate((R,my_R),axis = 1)\n",
    "R.shape"
   ]
  },
  {
   "cell_type": "code",
   "execution_count": 27,
   "metadata": {},
   "outputs": [],
   "source": [
    "#%NORMALIZERATINGS Preprocess data by subtracting mean rating for every \n",
    "#%movie (every row)\n",
    "#%   [Ynorm, Ymean] = NORMALIZERATINGS(Y, R) normalized Y so that each movie\n",
    "#%   has a rating of 0 on average, and returns the mean rating in Ymean.\n",
    "\n",
    "\n",
    "def normalizeRatings(Y, R):\n",
    "    m,n = Y.shape\n",
    "    \n",
    "    #Counting mean values of ratings of each movie which is stored in Y\n",
    "       \n",
    "    Ymean = np.sum(Y,axis = 1) / np.count_nonzero(Y,axis = 1)\n",
    "    \n",
    "    Ynormalize = Y - Ymean.reshape(len(Ymean),1)\n",
    "    \n",
    "    return Ynormalize, Ymean"
   ]
  },
  {
   "cell_type": "code",
   "execution_count": 51,
   "metadata": {},
   "outputs": [
    {
     "data": {
      "text/plain": [
       "array([3.8785872 , 3.20610687, 3.03333333, ..., 2.        , 3.        ,\n",
       "       3.        ])"
      ]
     },
     "execution_count": 51,
     "metadata": {},
     "output_type": "execute_result"
    }
   ],
   "source": [
    "#Normalizing the ratings\n",
    "Ynormalize, Ymean = normalizeRatings(Y,R)\n",
    "\n",
    "Ymean"
   ]
  },
  {
   "cell_type": "code",
   "execution_count": 29,
   "metadata": {},
   "outputs": [
    {
     "name": "stdout",
     "output_type": "stream",
     "text": [
      "944 1682\n"
     ]
    }
   ],
   "source": [
    "#%  Useful Values\n",
    "num_users = Y.shape[1]\n",
    "num_movies = Y.shape[0]\n",
    "num_features = 10\n",
    "\n",
    "print(num_users,num_movies)"
   ]
  },
  {
   "cell_type": "code",
   "execution_count": 30,
   "metadata": {},
   "outputs": [],
   "source": [
    "#% Set Initial Parameters (Theta, X)\n",
    "X = np.random.randn(num_movies, num_features)\n",
    "Theta =np.random.randn(num_users, num_features);\n",
    "\n",
    "#unrolling both parameters\n",
    "initial_parameters = np.concatenate((X.flatten() , Theta.flatten()))"
   ]
  },
  {
   "cell_type": "code",
   "execution_count": 143,
   "metadata": {},
   "outputs": [
    {
     "name": "stdout",
     "output_type": "stream",
     "text": [
      "Warning: Maximum number of iterations has been exceeded.\n",
      "         Current function value: 71898.369385\n",
      "         Iterations: 1500\n",
      "         Function evaluations: 2248\n",
      "         Gradient evaluations: 2248\n"
     ]
    }
   ],
   "source": [
    "# For regularization\n",
    "Lambda = 10\n",
    "\n",
    "from scipy.optimize import minimize\n",
    "\n",
    "\n",
    "#optimizing the parameters but we will not send the mean normalized value of ratings(Ynormalized)but we will send\n",
    "# original ratings Y\n",
    "OptimizeTheta = minimize(cofiCostFunc, x0 = initial_parameters, method = 'CG', args = (Y, R, num_users, num_movies, num_features, Lambda),\\\n",
    "                        jac = True, options = {'maxiter':1500,'disp': True})"
   ]
  },
  {
   "cell_type": "code",
   "execution_count": 144,
   "metadata": {},
   "outputs": [],
   "source": [
    "# Our parameters will be stored in Optimize.x so we will retrieve X and Theta from this\n",
    "\n",
    "X = OptimizeTheta.x[0:num_movies*num_features].reshape(num_movies,num_features)\n",
    "\n",
    "Theta = OptimizeTheta.x[np.size(X):len(OptimizeTheta.x)].reshape(num_users,num_features)"
   ]
  },
  {
   "cell_type": "code",
   "execution_count": 145,
   "metadata": {},
   "outputs": [],
   "source": [
    "#%% ================== Part 8: Recommendation for you ====================\n",
    "#%  After training the model, you can now make recommendations by computing\n",
    "#%  the predictions matrix.\n",
    "p = X.dot(Theta.T)\n",
    "\n",
    "# taking our predictions\n",
    "my_predictions = p[:, p.shape[1] - 1] + Ymean"
   ]
  },
  {
   "cell_type": "code",
   "execution_count": 146,
   "metadata": {},
   "outputs": [],
   "source": [
    "movieList = loadMovieList()"
   ]
  },
  {
   "cell_type": "code",
   "execution_count": 149,
   "metadata": {},
   "outputs": [
    {
     "name": "stdout",
     "output_type": "stream",
     "text": [
      "Top Recommendations for you: \n",
      "\n",
      "Predicted rating  8.438965046900671  for movie Star Wars (1977)\n",
      "Predicted rating  8.363031884979083  for movie Titanic (1997)\n",
      "Predicted rating  8.25494339458346  for movie Shawshank Redemption, The (1994)\n",
      "Predicted rating  8.18524868872505  for movie Good Will Hunting (1997)\n",
      "Predicted rating  8.127788095076582  for movie Raiders of the Lost Ark (1981)\n",
      "Predicted rating  8.099433879584677  for movie Usual Suspects, The (1995)\n",
      "Predicted rating  8.098676882245758  for movie Schindler's List (1993)\n",
      "Predicted rating  8.07882035085222  for movie Wrong Trousers, The (1993)\n",
      "Predicted rating  8.021860685064372  for movie Empire Strikes Back, The (1980)\n",
      "Predicted rating  7.978713822879353  for movie As Good As It Gets (1997)\n"
     ]
    }
   ],
   "source": [
    "# taking the indexes of the movies that are highest predicted and we will recommend first 10 movies\n",
    "ix = np.argsort(-my_predictions)\n",
    "\n",
    "print('Top Recommendations for you: \\n')\n",
    "for i in range(10):\n",
    "    print('Predicted rating ',my_predictions[ix[i]],' for movie',movieList[ix[i]])"
   ]
  },
  {
   "cell_type": "code",
   "execution_count": 150,
   "metadata": {},
   "outputs": [
    {
     "name": "stdout",
     "output_type": "stream",
     "text": [
      "Original ratings: \n",
      "\n",
      "Rated  [4.]  for movie  Toy Story (1995)\n",
      "Rated  [3.]  for movie  Twelve Monkeys (1995)\n",
      "Rated  [5.]  for movie  Usual Suspects, The (1995)\n",
      "Rated  [4.]  for movie  Outbreak (1995)\n",
      "Rated  [5.]  for movie  Shawshank Redemption, The (1994)\n",
      "Rated  [3.]  for movie  While You Were Sleeping (1995)\n",
      "Rated  [5.]  for movie  Crow, The (1994)\n",
      "Rated  [2.]  for movie  Silence of the Lambs, The (1991)\n",
      "Rated  [4.]  for movie  Alien (1979)\n",
      "Rated  [5.]  for movie  Die Hard 2 (1990)\n",
      "Rated  [5.]  for movie  Sphere (1998)\n"
     ]
    }
   ],
   "source": [
    "print('Original ratings: \\n')\n",
    "for i in range(len(my_ratings)):\n",
    "    if(my_ratings[i]>0):\n",
    "        print('Rated ',my_ratings[i],' for movie ', movieList[i])"
   ]
  },
  {
   "cell_type": "code",
   "execution_count": null,
   "metadata": {},
   "outputs": [],
   "source": []
  }
 ],
 "metadata": {
  "kernelspec": {
   "display_name": "Python 3",
   "language": "python",
   "name": "python3"
  },
  "language_info": {
   "codemirror_mode": {
    "name": "ipython",
    "version": 3
   },
   "file_extension": ".py",
   "mimetype": "text/x-python",
   "name": "python",
   "nbconvert_exporter": "python",
   "pygments_lexer": "ipython3",
   "version": "3.6.5"
  }
 },
 "nbformat": 4,
 "nbformat_minor": 2
}
