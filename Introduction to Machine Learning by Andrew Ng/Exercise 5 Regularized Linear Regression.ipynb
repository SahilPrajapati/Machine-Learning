{
 "cells": [
  {
   "cell_type": "code",
   "execution_count": 14,
   "metadata": {},
   "outputs": [
    {
     "data": {
      "text/plain": [
       "{'__header__': b'MATLAB 5.0 MAT-file, Platform: GLNXA64, Created on: Fri Nov  4 22:27:26 2011',\n",
       " '__version__': '1.0',\n",
       " '__globals__': [],\n",
       " 'X': array([[-15.93675813],\n",
       "        [-29.15297922],\n",
       "        [ 36.18954863],\n",
       "        [ 37.49218733],\n",
       "        [-48.05882945],\n",
       "        [ -8.94145794],\n",
       "        [ 15.30779289],\n",
       "        [-34.70626581],\n",
       "        [  1.38915437],\n",
       "        [-44.38375985],\n",
       "        [  7.01350208],\n",
       "        [ 22.76274892]]),\n",
       " 'y': array([[ 2.13431051],\n",
       "        [ 1.17325668],\n",
       "        [34.35910918],\n",
       "        [36.83795516],\n",
       "        [ 2.80896507],\n",
       "        [ 2.12107248],\n",
       "        [14.71026831],\n",
       "        [ 2.61418439],\n",
       "        [ 3.74017167],\n",
       "        [ 3.73169131],\n",
       "        [ 7.62765885],\n",
       "        [22.7524283 ]]),\n",
       " 'Xtest': array([[-33.31800399],\n",
       "        [-37.91216403],\n",
       "        [-51.20693795],\n",
       "        [ -6.13259585],\n",
       "        [ 21.26118327],\n",
       "        [-40.31952949],\n",
       "        [-14.54153167],\n",
       "        [ 32.55976024],\n",
       "        [ 13.39343255],\n",
       "        [ 44.20988595],\n",
       "        [ -1.14267768],\n",
       "        [-12.76686065],\n",
       "        [ 34.05450539],\n",
       "        [ 39.22350028],\n",
       "        [  1.97449674],\n",
       "        [ 29.6217551 ],\n",
       "        [-23.66962971],\n",
       "        [ -9.01180139],\n",
       "        [-55.94057091],\n",
       "        [-35.70859752],\n",
       "        [  9.51020533]]),\n",
       " 'ytest': array([[ 3.31688953],\n",
       "        [ 5.39768952],\n",
       "        [ 0.13042984],\n",
       "        [ 6.1925982 ],\n",
       "        [17.08848712],\n",
       "        [ 0.79950805],\n",
       "        [ 2.82479183],\n",
       "        [28.62123334],\n",
       "        [17.04639081],\n",
       "        [55.38437334],\n",
       "        [ 4.07936733],\n",
       "        [ 8.27039793],\n",
       "        [31.32355102],\n",
       "        [39.15906103],\n",
       "        [ 8.08727989],\n",
       "        [24.11134389],\n",
       "        [ 2.4773548 ],\n",
       "        [ 6.56606472],\n",
       "        [ 6.0380888 ],\n",
       "        [ 4.69273956],\n",
       "        [10.83004606]]),\n",
       " 'Xval': array([[-16.74653578],\n",
       "        [-14.57747075],\n",
       "        [ 34.51575866],\n",
       "        [-47.01007574],\n",
       "        [ 36.97511905],\n",
       "        [-40.68611002],\n",
       "        [ -4.47201098],\n",
       "        [ 26.53363489],\n",
       "        [-42.7976831 ],\n",
       "        [ 25.37409938],\n",
       "        [-31.10955398],\n",
       "        [ 27.31176864],\n",
       "        [ -3.26386201],\n",
       "        [ -1.81827649],\n",
       "        [-40.7196624 ],\n",
       "        [-50.01324365],\n",
       "        [-17.41177155],\n",
       "        [  3.5881937 ],\n",
       "        [  7.08548026],\n",
       "        [ 46.28236902],\n",
       "        [ 14.61228909]]),\n",
       " 'yval': array([[ 4.17020201e+00],\n",
       "        [ 4.06726280e+00],\n",
       "        [ 3.18730676e+01],\n",
       "        [ 1.06236562e+01],\n",
       "        [ 3.18360213e+01],\n",
       "        [ 4.95936972e+00],\n",
       "        [ 4.45159880e+00],\n",
       "        [ 2.22763185e+01],\n",
       "        [-4.38738274e-05],\n",
       "        [ 2.05038016e+01],\n",
       "        [ 3.85834476e+00],\n",
       "        [ 1.93650529e+01],\n",
       "        [ 4.88376281e+00],\n",
       "        [ 1.10971588e+01],\n",
       "        [ 7.46170827e+00],\n",
       "        [ 1.47693464e+00],\n",
       "        [ 2.71916388e+00],\n",
       "        [ 1.09269007e+01],\n",
       "        [ 8.34871235e+00],\n",
       "        [ 5.27819280e+01],\n",
       "        [ 1.33573396e+01]])}"
      ]
     },
     "execution_count": 14,
     "metadata": {},
     "output_type": "execute_result"
    }
   ],
   "source": [
    "#Importing...\n",
    "\n",
    "import scipy.io as sio\n",
    "import numpy as np\n",
    "import pandas as pd\n",
    "import matplotlib.pyplot as plt\n",
    "import math\n",
    "from scipy.optimize import minimize\n",
    "\n",
    "\n",
    "\n",
    "#Reading the .mat file\n",
    "\n",
    "mat_contents = sio.loadmat('E:\\Machine Learning\\Exercises\\machine-learning-ex5\\ex5\\ex5data1.mat')\n",
    "\n",
    "mat_contents"
   ]
  },
  {
   "cell_type": "code",
   "execution_count": 15,
   "metadata": {},
   "outputs": [
    {
     "name": "stdout",
     "output_type": "stream",
     "text": [
      "(12, 1)\n",
      "(12, 1)\n"
     ]
    }
   ],
   "source": [
    "#Extracting the contents\n",
    "\n",
    "# Training Set\n",
    "X = mat_contents['X']\n",
    "Y = mat_contents['y']\n",
    "\n",
    "#Cross Validation Set\n",
    "Xval = mat_contents['Xval']\n",
    "Yval = mat_contents['yval']\n",
    "\n",
    "#Test Set\n",
    "Xtext = mat_contents['Xtest']\n",
    "Ytest = mat_contents['ytest']\n",
    "\n",
    "m,n = X.shape\n",
    "\n",
    "print(X.shape)\n",
    "print(Y.shape)"
   ]
  },
  {
   "cell_type": "code",
   "execution_count": 16,
   "metadata": {},
   "outputs": [
    {
     "data": {
      "text/plain": [
       "[<matplotlib.lines.Line2D at 0x229ed6f2c88>]"
      ]
     },
     "execution_count": 16,
     "metadata": {},
     "output_type": "execute_result"
    },
    {
     "data": {
      "image/png": "[encoded data removed]",
      "text/plain": [
       "<Figure size 432x288 with 1 Axes>"
      ]
     },
     "metadata": {},
     "output_type": "display_data"
    }
   ],
   "source": [
    "# 1.1 VISUALIZING THE DATA\n",
    "\n",
    "#Plotting the graph\n",
    "\n",
    "plt.ylabel('Water flowing out of the dam (y)')\n",
    "plt.xlabel('Change in water level (x)')\n",
    "\n",
    "plt.plot(X,Y,'rx')"
   ]
  },
  {
   "cell_type": "code",
   "execution_count": 17,
   "metadata": {},
   "outputs": [],
   "source": [
    "#calculating htheta(x)\n",
    "def hypothesis(theta,X):\n",
    "    return X.dot(theta)"
   ]
  },
  {
   "cell_type": "code",
   "execution_count": 18,
   "metadata": {},
   "outputs": [],
   "source": [
    "#1.2 Regularized linear regression cost function\n",
    "\n",
    "#calculating the cost of the regularized linear regression\n",
    "def linearRegCostFunction(theta,X, Y, Lambda,m):\n",
    "    theta = theta.reshape(2,1)\n",
    "    \n",
    "    #computing the term 1 of the cost function\n",
    "    term1 = (((hypothesis(theta,X) - Y)**2).sum())/(2*m)\n",
    "    \n",
    "   \n",
    "    #computing regularized term for the cost function\n",
    "    \n",
    "                              #here column 1 i,e theta[0]\n",
    "                              #not be included so slicing is done\n",
    "    term2 = (Lambda/(2*m)) * (theta[1]**2)\n",
    "    \n",
    "    #computing the cost term1 + term2(regularized term)\n",
    "    cost = term1 +  term2\n",
    "    \n",
    "    return cost\n",
    "\n",
    " #COMPUTING THE GRADIENTS\n",
    "def gradient(theta,X, Y, Lambda,m):\n",
    "   \n",
    "    theta = theta.reshape(2,1)\n",
    "    \n",
    "    #computing (htheta(x) - y)/m\n",
    "    hypMinusY = (hypothesis(theta,X) - Y)/m\n",
    "    \n",
    "    #computing gradient for theta[0]\n",
    "    grad1 = hypMinusY.sum() \n",
    "    \n",
    "    #computing gradient for theta[1]\n",
    "    grad2 = (hypMinusY*X[:,1:]).sum() + (Lambda/m)*(theta[1])\n",
    "    \n",
    "    return (np.array([grad1,grad2])).flatten()"
   ]
  },
  {
   "cell_type": "code",
   "execution_count": 19,
   "metadata": {},
   "outputs": [
    {
     "name": "stdout",
     "output_type": "stream",
     "text": [
      "Cost :  [303.99319222]\n",
      "Gradients :  [-15.30301567 598.25074417]\n"
     ]
    }
   ],
   "source": [
    "#defining the theta\n",
    "theta = np.array([[1],[1]])\n",
    "\n",
    "#calculating the cost and gradients for Lambda = 1\n",
    "J = linearRegCostFunction( theta.flatten(),np.insert(X,0,1,1), Y, 1,m)\n",
    "grad = gradient(theta.flatten(),np.insert(X,0,1,1), Y, 1,m)\n",
    "print('Cost : ', J) \n",
    "print('Gradients : ',grad)\n"
   ]
  },
  {
   "cell_type": "code",
   "execution_count": 20,
   "metadata": {},
   "outputs": [],
   "source": [
    "#1.4 Fitting linear regression(Train Linear Regression)\n",
    "def trainLinearReg(X, y, Lambda,msize):\n",
    "    \n",
    "    #initializing thetas with the zeros\n",
    "    initial_theta = np.zeros((2,1))\n",
    "    \n",
    "    #Calling the optimize function\n",
    "    import scipy\n",
    "                                    #it will call the our                           #computing with the \n",
    "                                    #optimize function                              #gradient\n",
    "    result = scipy.optimize.fmin_cg(linearRegCostFunction,x0=initial_theta.flatten(),fprime = gradient,\\\n",
    "                args=(X, y, Lambda,msize),maxiter=200,disp=True,full_output=True) \n",
    "    \n",
    "    return(result[0])\n"
   ]
  },
  {
   "cell_type": "code",
   "execution_count": 21,
   "metadata": {},
   "outputs": [
    {
     "name": "stdout",
     "output_type": "stream",
     "text": [
      "Optimization terminated successfully.\n",
      "         Current function value: 22.373906\n",
      "         Iterations: 2\n",
      "         Function evaluations: 5\n",
      "         Gradient evaluations: 5\n",
      "[13.08790351  0.36777923]\n"
     ]
    }
   ],
   "source": [
    "Lambda = 0\n",
    "FinalTheta = trainLinearReg(np.insert(X,0,1,1), Y, Lambda,m)\n",
    "\n",
    "print(FinalTheta)"
   ]
  },
  {
   "cell_type": "code",
   "execution_count": 22,
   "metadata": {},
   "outputs": [
    {
     "data": {
      "text/plain": [
       "[<matplotlib.lines.Line2D at 0x229ed75a240>]"
      ]
     },
     "execution_count": 22,
     "metadata": {},
     "output_type": "execute_result"
    },
    {
     "data": {
      "image/png": "[encoded data removed]",
      "text/plain": [
       "<Figure size 432x288 with 1 Axes>"
      ]
     },
     "metadata": {},
     "output_type": "display_data"
    }
   ],
   "source": [
    "plt.ylabel('Water flowing out of the dam (y)')\n",
    "plt.xlabel('Change in water level (x)')\n",
    "\n",
    "\n",
    "plt.plot(X,Y,'rx')\n",
    "plt.plot(X,np.insert(X,0,1,1).dot(FinalTheta),'-')"
   ]
  },
  {
   "cell_type": "code",
   "execution_count": 23,
   "metadata": {},
   "outputs": [
    {
     "data": {
      "text/plain": [
       "(2,)"
      ]
     },
     "execution_count": 23,
     "metadata": {},
     "output_type": "execute_result"
    }
   ],
   "source": [
    "FinalTheta.shape"
   ]
  },
  {
   "cell_type": "code",
   "execution_count": 31,
   "metadata": {},
   "outputs": [],
   "source": [
    "def learningCurve(X,Y,Xval,Yval,Lambda):\n",
    "    error_train = np.zeros((m,1))\n",
    "    error_val = np.zeros((m,1))\n",
    "\n",
    "    for i in range(1,m+1):\n",
    "        \n",
    "        #Learning parameter for i training size\n",
    "        Theta = trainLinearReg(X[0:i,:], Y[0:i], Lambda,i)\n",
    "\n",
    "        \n",
    "        #training error\n",
    "        error_train[i-1] = linearRegCostFunction(Theta,X[0:i,:],Y[0:i],Lambda,i)\n",
    "        \n",
    "        #Cross validation error\n",
    "        error_val[i-1] = linearRegCostFunction(Theta,Xval,Yval,Lambda,21)\n",
    "        \n",
    "    return error_train,error_val\n"
   ]
  },
  {
   "cell_type": "code",
   "execution_count": 32,
   "metadata": {},
   "outputs": [
    {
     "name": "stdout",
     "output_type": "stream",
     "text": [
      "Optimization terminated successfully.\n",
      "         Current function value: 0.000000\n",
      "         Iterations: 1\n",
      "         Function evaluations: 3\n",
      "         Gradient evaluations: 3\n",
      "Optimization terminated successfully.\n",
      "         Current function value: 0.000000\n",
      "         Iterations: 2\n",
      "         Function evaluations: 6\n",
      "         Gradient evaluations: 6\n",
      "Optimization terminated successfully.\n",
      "         Current function value: 3.286595\n",
      "         Iterations: 9\n",
      "         Function evaluations: 15\n",
      "         Gradient evaluations: 15\n",
      "Optimization terminated successfully.\n",
      "         Current function value: 2.842678\n",
      "         Iterations: 8\n",
      "         Function evaluations: 14\n",
      "         Gradient evaluations: 14\n",
      "Optimization terminated successfully.\n",
      "         Current function value: 13.154049\n",
      "         Iterations: 22\n",
      "         Function evaluations: 34\n",
      "         Gradient evaluations: 34\n",
      "Optimization terminated successfully.\n",
      "         Current function value: 19.443963\n",
      "         Iterations: 22\n",
      "         Function evaluations: 34\n",
      "         Gradient evaluations: 34\n",
      "Optimization terminated successfully.\n",
      "         Current function value: 20.098522\n",
      "         Iterations: 18\n",
      "         Function evaluations: 28\n",
      "         Gradient evaluations: 28\n",
      "Optimization terminated successfully.\n",
      "         Current function value: 18.172859\n",
      "         Iterations: 2\n",
      "         Function evaluations: 5\n",
      "         Gradient evaluations: 5\n",
      "Optimization terminated successfully.\n",
      "         Current function value: 22.609405\n",
      "         Iterations: 2\n",
      "         Function evaluations: 5\n",
      "         Gradient evaluations: 5\n",
      "Optimization terminated successfully.\n",
      "         Current function value: 23.261462\n",
      "         Iterations: 2\n",
      "         Function evaluations: 5\n",
      "         Gradient evaluations: 5\n",
      "Optimization terminated successfully.\n",
      "         Current function value: 24.317250\n",
      "         Iterations: 2\n",
      "         Function evaluations: 5\n",
      "         Gradient evaluations: 5\n",
      "Optimization terminated successfully.\n",
      "         Current function value: 22.373906\n",
      "         Iterations: 2\n",
      "         Function evaluations: 5\n",
      "         Gradient evaluations: 5\n"
     ]
    }
   ],
   "source": [
    "Lambda = 0\n",
    "error_train, error_val = learningCurve(np.insert(X,0,1,1), Y,np.insert(Xval,0,1,1), Yval,Lambda);"
   ]
  },
  {
   "cell_type": "code",
   "execution_count": 33,
   "metadata": {},
   "outputs": [
    {
     "data": {
      "text/plain": [
       "<matplotlib.legend.Legend at 0x229ee8b8550>"
      ]
     },
     "execution_count": 33,
     "metadata": {},
     "output_type": "execute_result"
    },
    {
     "data": {
      "image/png": "[encoded data removed]",
      "text/plain": [
       "<Figure size 432x288 with 1 Axes>"
      ]
     },
     "metadata": {},
     "output_type": "display_data"
    }
   ],
   "source": [
    "#Plotting graph between J(train) error and J(Cross validation) with training set size\n",
    "plt.title('Learning curve for linear regression')\n",
    "\n",
    "plt.xlabel('Number of training examples')\n",
    "plt.ylabel('Error')\n",
    "plt.ylim(0,150)\n",
    "\n",
    "plt.plot(np.arange(1,m+1),error_train,'-',label = 'Train')\n",
    "plt.plot(np.arange(1,m+1),error_val,'-',label = 'Cross Validation')\n",
    "\n",
    "plt.legend()"
   ]
  },
  {
   "cell_type": "code",
   "execution_count": null,
   "metadata": {},
   "outputs": [],
   "source": []
  },
  {
   "cell_type": "code",
   "execution_count": null,
   "metadata": {},
   "outputs": [],
   "source": []
  }
 ],
 "metadata": {
  "kernelspec": {
   "display_name": "Python 3",
   "language": "python",
   "name": "python3"
  },
  "language_info": {
   "codemirror_mode": {
    "name": "ipython",
    "version": 3
   },
   "file_extension": ".py",
   "mimetype": "text/x-python",
   "name": "python",
   "nbconvert_exporter": "python",
   "pygments_lexer": "ipython3",
   "version": "3.6.5"
  }
 },
 "nbformat": 4,
 "nbformat_minor": 2
}
